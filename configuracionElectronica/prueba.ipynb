{
 "cells": [
  {
   "cell_type": "code",
   "execution_count": 3,
   "metadata": {
    "collapsed": true
   },
   "outputs": [],
   "source": [
    "def electron_config(atomic_num):\n",
    "    orbitals = '1s 2s 2p 3s 3p 4s 3d 4p 5s 4d 5p 6s 4f 5d 6p 7s 5f 6d 7p 6f 7d 7f'.split()\n",
    "    possible_electrons = dict(s=2,p=6,d=10,f=14)\n",
    "    electron_count = 0\n",
    "    result = []\n",
    "    for i in orbitals:\n",
    "        if electron_count < atomic_num:\n",
    "            orbital = ''.join(j for j in i if j in 'spdf')\n",
    "            result.append(i+str(possible_electrons[orbital]))\n",
    "            electron_count += possible_electrons[orbital]\n",
    "        else: break\n",
    "    if electron_count > atomic_num:\n",
    "        dif = electron_count-atomic_num\n",
    "        last_electron_pos = result[-1].find(orbital)+1\n",
    "        last_electrons = int(result[-1][last_electron_pos:])\n",
    "        new_num = last_electrons - dif\n",
    "        result[-1]= result[-1][:last_electron_pos] + str(new_num)\n",
    "    return ' '.join(result)"
   ]
  },
  {
   "cell_type": "code",
   "execution_count": null,
   "metadata": {
    "collapsed": true
   },
   "outputs": [],
   "source": []
  }
 ],
 "metadata": {
  "anaconda-cloud": {},
  "kernelspec": {
   "display_name": "Python [conda root]",
   "language": "python",
   "name": "conda-root-py"
  },
  "language_info": {
   "codemirror_mode": {
    "name": "ipython",
    "version": 2
   },
   "file_extension": ".py",
   "mimetype": "text/x-python",
   "name": "python",
   "nbconvert_exporter": "python",
   "pygments_lexer": "ipython2",
   "version": "2.7.12"
  }
 },
 "nbformat": 4,
 "nbformat_minor": 1
}
